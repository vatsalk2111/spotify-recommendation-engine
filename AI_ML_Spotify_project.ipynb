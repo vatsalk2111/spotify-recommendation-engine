{
  "cells": [
    {
      "cell_type": "code",
      "execution_count": 10,
      "metadata": {
        "colab": {
          "base_uri": "https://localhost:8080/",
          "height": 235
        },
        "id": "nmSoJlokacAr",
        "outputId": "6147461b-0e1f-4372-cf8b-5b047165320a"
      },
      "outputs": [],
      "source": [
        "import pandas as pd\n",
        "import numpy as np\n",
        "import json\n",
        "import re \n",
        "import sys\n",
        "import itertools\n",
        "\n",
        "from sklearn.feature_extraction.text import TfidfVectorizer\n",
        "from sklearn.metrics.pairwise import cosine_similarity\n",
        "from sklearn.preprocessing import MinMaxScaler\n",
        "import matplotlib.pyplot as plt\n",
        "\n",
        "\n",
        "\n",
        "import spotipy\n",
        "from spotipy.oauth2 import SpotifyClientCredentials\n",
        "from spotipy.oauth2 import SpotifyOAuth\n",
        "import spotipy.util as util\n",
        "\n",
        "import warnings\n",
        "warnings.filterwarnings(\"ignore\")"
      ]
    },
    {
      "cell_type": "code",
      "execution_count": 11,
      "metadata": {
        "id": "WGSF7obbahBK"
      },
      "outputs": [],
      "source": [
        "%matplotlib inline"
      ]
    },
    {
      "cell_type": "code",
      "execution_count": 12,
      "metadata": {
        "id": "-SED-nsPahC1"
      },
      "outputs": [
        {
          "data": {
            "text/html": [],
            "text/plain": [
              "<IPython.core.display.HTML object>"
            ]
          },
          "metadata": {},
          "output_type": "display_data"
        }
      ],
      "source": [
        "#If you're not familiar with this, save it! Makes using jupyter notebook on laptops much easier\n",
        "from IPython.core.display import display, HTML\n",
        "display(HTML(\"\"))"
      ]
    },
    {
      "cell_type": "code",
      "execution_count": null,
      "metadata": {
        "id": "VEdhJrC-ahGu"
      },
      "outputs": [],
      "source": [
        "\n",
        "#another useful command to make data exploration easier\n",
        "# NOTE: if you are using a massive dataset, this could slow down your code. \n",
        "pd.set_option('display.max_columns', None)\n",
        "pd.set_option(\"max_rows\", None)\n",
        "\n",
        "pd.options.display.max_rows"
      ]
    },
    {
      "cell_type": "code",
      "execution_count": null,
      "metadata": {},
      "outputs": [],
      "source": [
        "pd.options.display.max_rows, "
      ]
    },
    {
      "cell_type": "code",
      "execution_count": 15,
      "metadata": {
        "id": "lJorWR5SahMc"
      },
      "outputs": [
        {
          "ename": "FileNotFoundError",
          "evalue": "No such file or directory: '/Users/thakm004/Documents/Spotify/process_2.png'",
          "output_type": "error",
          "traceback": [
            "\u001b[1;31m---------------------------------------------------------------------------\u001b[0m",
            "\u001b[1;31mTypeError\u001b[0m                                 Traceback (most recent call last)",
            "File \u001b[1;32mc:\\Users\\HP\\AppData\\Local\\Programs\\Python\\Python310\\lib\\site-packages\\IPython\\core\\display.py:1032\u001b[0m, in \u001b[0;36mImage._data_and_metadata\u001b[1;34m(self, always_both)\u001b[0m\n\u001b[0;32m   1031\u001b[0m \u001b[39mtry\u001b[39;00m:\n\u001b[1;32m-> 1032\u001b[0m     b64_data \u001b[39m=\u001b[39m b2a_base64(\u001b[39mself\u001b[39;49m\u001b[39m.\u001b[39;49mdata)\u001b[39m.\u001b[39mdecode(\u001b[39m'\u001b[39m\u001b[39mascii\u001b[39m\u001b[39m'\u001b[39m)\n\u001b[0;32m   1033\u001b[0m \u001b[39mexcept\u001b[39;00m \u001b[39mTypeError\u001b[39;00m \u001b[39mas\u001b[39;00m e:\n",
            "\u001b[1;31mTypeError\u001b[0m: a bytes-like object is required, not 'str'",
            "\nThe above exception was the direct cause of the following exception:\n",
            "\u001b[1;31mFileNotFoundError\u001b[0m                         Traceback (most recent call last)",
            "File \u001b[1;32mc:\\Users\\HP\\AppData\\Local\\Programs\\Python\\Python310\\lib\\site-packages\\IPython\\core\\formatters.py:973\u001b[0m, in \u001b[0;36mMimeBundleFormatter.__call__\u001b[1;34m(self, obj, include, exclude)\u001b[0m\n\u001b[0;32m    970\u001b[0m     method \u001b[39m=\u001b[39m get_real_method(obj, \u001b[39mself\u001b[39m\u001b[39m.\u001b[39mprint_method)\n\u001b[0;32m    972\u001b[0m     \u001b[39mif\u001b[39;00m method \u001b[39mis\u001b[39;00m \u001b[39mnot\u001b[39;00m \u001b[39mNone\u001b[39;00m:\n\u001b[1;32m--> 973\u001b[0m         \u001b[39mreturn\u001b[39;00m method(include\u001b[39m=\u001b[39;49minclude, exclude\u001b[39m=\u001b[39;49mexclude)\n\u001b[0;32m    974\u001b[0m     \u001b[39mreturn\u001b[39;00m \u001b[39mNone\u001b[39;00m\n\u001b[0;32m    975\u001b[0m \u001b[39melse\u001b[39;00m:\n",
            "File \u001b[1;32mc:\\Users\\HP\\AppData\\Local\\Programs\\Python\\Python310\\lib\\site-packages\\IPython\\core\\display.py:1022\u001b[0m, in \u001b[0;36mImage._repr_mimebundle_\u001b[1;34m(self, include, exclude)\u001b[0m\n\u001b[0;32m   1020\u001b[0m \u001b[39mif\u001b[39;00m \u001b[39mself\u001b[39m\u001b[39m.\u001b[39membed:\n\u001b[0;32m   1021\u001b[0m     mimetype \u001b[39m=\u001b[39m \u001b[39mself\u001b[39m\u001b[39m.\u001b[39m_mimetype\n\u001b[1;32m-> 1022\u001b[0m     data, metadata \u001b[39m=\u001b[39m \u001b[39mself\u001b[39;49m\u001b[39m.\u001b[39;49m_data_and_metadata(always_both\u001b[39m=\u001b[39;49m\u001b[39mTrue\u001b[39;49;00m)\n\u001b[0;32m   1023\u001b[0m     \u001b[39mif\u001b[39;00m metadata:\n\u001b[0;32m   1024\u001b[0m         metadata \u001b[39m=\u001b[39m {mimetype: metadata}\n",
            "File \u001b[1;32mc:\\Users\\HP\\AppData\\Local\\Programs\\Python\\Python310\\lib\\site-packages\\IPython\\core\\display.py:1034\u001b[0m, in \u001b[0;36mImage._data_and_metadata\u001b[1;34m(self, always_both)\u001b[0m\n\u001b[0;32m   1032\u001b[0m     b64_data \u001b[39m=\u001b[39m b2a_base64(\u001b[39mself\u001b[39m\u001b[39m.\u001b[39mdata)\u001b[39m.\u001b[39mdecode(\u001b[39m'\u001b[39m\u001b[39mascii\u001b[39m\u001b[39m'\u001b[39m)\n\u001b[0;32m   1033\u001b[0m \u001b[39mexcept\u001b[39;00m \u001b[39mTypeError\u001b[39;00m \u001b[39mas\u001b[39;00m e:\n\u001b[1;32m-> 1034\u001b[0m     \u001b[39mraise\u001b[39;00m \u001b[39mFileNotFoundError\u001b[39;00m(\n\u001b[0;32m   1035\u001b[0m         \u001b[39m\"\u001b[39m\u001b[39mNo such file or directory: \u001b[39m\u001b[39m'\u001b[39m\u001b[39m%s\u001b[39;00m\u001b[39m'\u001b[39m\u001b[39m\"\u001b[39m \u001b[39m%\u001b[39m (\u001b[39mself\u001b[39m\u001b[39m.\u001b[39mdata)) \u001b[39mfrom\u001b[39;00m \u001b[39me\u001b[39;00m\n\u001b[0;32m   1036\u001b[0m md \u001b[39m=\u001b[39m {}\n\u001b[0;32m   1037\u001b[0m \u001b[39mif\u001b[39;00m \u001b[39mself\u001b[39m\u001b[39m.\u001b[39mmetadata:\n",
            "\u001b[1;31mFileNotFoundError\u001b[0m: No such file or directory: '/Users/thakm004/Documents/Spotify/process_2.png'"
          ]
        },
        {
          "ename": "FileNotFoundError",
          "evalue": "No such file or directory: '/Users/thakm004/Documents/Spotify/process_2.png'",
          "output_type": "error",
          "traceback": [
            "\u001b[1;31m---------------------------------------------------------------------------\u001b[0m",
            "\u001b[1;31mTypeError\u001b[0m                                 Traceback (most recent call last)",
            "File \u001b[1;32mc:\\Users\\HP\\AppData\\Local\\Programs\\Python\\Python310\\lib\\site-packages\\IPython\\core\\display.py:1032\u001b[0m, in \u001b[0;36mImage._data_and_metadata\u001b[1;34m(self, always_both)\u001b[0m\n\u001b[0;32m   1031\u001b[0m \u001b[39mtry\u001b[39;00m:\n\u001b[1;32m-> 1032\u001b[0m     b64_data \u001b[39m=\u001b[39m b2a_base64(\u001b[39mself\u001b[39;49m\u001b[39m.\u001b[39;49mdata)\u001b[39m.\u001b[39mdecode(\u001b[39m'\u001b[39m\u001b[39mascii\u001b[39m\u001b[39m'\u001b[39m)\n\u001b[0;32m   1033\u001b[0m \u001b[39mexcept\u001b[39;00m \u001b[39mTypeError\u001b[39;00m \u001b[39mas\u001b[39;00m e:\n",
            "\u001b[1;31mTypeError\u001b[0m: a bytes-like object is required, not 'str'",
            "\nThe above exception was the direct cause of the following exception:\n",
            "\u001b[1;31mFileNotFoundError\u001b[0m                         Traceback (most recent call last)",
            "File \u001b[1;32mc:\\Users\\HP\\AppData\\Local\\Programs\\Python\\Python310\\lib\\site-packages\\IPython\\core\\formatters.py:343\u001b[0m, in \u001b[0;36mBaseFormatter.__call__\u001b[1;34m(self, obj)\u001b[0m\n\u001b[0;32m    341\u001b[0m     method \u001b[39m=\u001b[39m get_real_method(obj, \u001b[39mself\u001b[39m\u001b[39m.\u001b[39mprint_method)\n\u001b[0;32m    342\u001b[0m     \u001b[39mif\u001b[39;00m method \u001b[39mis\u001b[39;00m \u001b[39mnot\u001b[39;00m \u001b[39mNone\u001b[39;00m:\n\u001b[1;32m--> 343\u001b[0m         \u001b[39mreturn\u001b[39;00m method()\n\u001b[0;32m    344\u001b[0m     \u001b[39mreturn\u001b[39;00m \u001b[39mNone\u001b[39;00m\n\u001b[0;32m    345\u001b[0m \u001b[39melse\u001b[39;00m:\n",
            "File \u001b[1;32mc:\\Users\\HP\\AppData\\Local\\Programs\\Python\\Python310\\lib\\site-packages\\IPython\\core\\display.py:1054\u001b[0m, in \u001b[0;36mImage._repr_png_\u001b[1;34m(self)\u001b[0m\n\u001b[0;32m   1052\u001b[0m \u001b[39mdef\u001b[39;00m \u001b[39m_repr_png_\u001b[39m(\u001b[39mself\u001b[39m):\n\u001b[0;32m   1053\u001b[0m     \u001b[39mif\u001b[39;00m \u001b[39mself\u001b[39m\u001b[39m.\u001b[39membed \u001b[39mand\u001b[39;00m \u001b[39mself\u001b[39m\u001b[39m.\u001b[39mformat \u001b[39m==\u001b[39m \u001b[39mself\u001b[39m\u001b[39m.\u001b[39m_FMT_PNG:\n\u001b[1;32m-> 1054\u001b[0m         \u001b[39mreturn\u001b[39;00m \u001b[39mself\u001b[39;49m\u001b[39m.\u001b[39;49m_data_and_metadata()\n",
            "File \u001b[1;32mc:\\Users\\HP\\AppData\\Local\\Programs\\Python\\Python310\\lib\\site-packages\\IPython\\core\\display.py:1034\u001b[0m, in \u001b[0;36mImage._data_and_metadata\u001b[1;34m(self, always_both)\u001b[0m\n\u001b[0;32m   1032\u001b[0m     b64_data \u001b[39m=\u001b[39m b2a_base64(\u001b[39mself\u001b[39m\u001b[39m.\u001b[39mdata)\u001b[39m.\u001b[39mdecode(\u001b[39m'\u001b[39m\u001b[39mascii\u001b[39m\u001b[39m'\u001b[39m)\n\u001b[0;32m   1033\u001b[0m \u001b[39mexcept\u001b[39;00m \u001b[39mTypeError\u001b[39;00m \u001b[39mas\u001b[39;00m e:\n\u001b[1;32m-> 1034\u001b[0m     \u001b[39mraise\u001b[39;00m \u001b[39mFileNotFoundError\u001b[39;00m(\n\u001b[0;32m   1035\u001b[0m         \u001b[39m\"\u001b[39m\u001b[39mNo such file or directory: \u001b[39m\u001b[39m'\u001b[39m\u001b[39m%s\u001b[39;00m\u001b[39m'\u001b[39m\u001b[39m\"\u001b[39m \u001b[39m%\u001b[39m (\u001b[39mself\u001b[39m\u001b[39m.\u001b[39mdata)) \u001b[39mfrom\u001b[39;00m \u001b[39me\u001b[39;00m\n\u001b[0;32m   1036\u001b[0m md \u001b[39m=\u001b[39m {}\n\u001b[0;32m   1037\u001b[0m \u001b[39mif\u001b[39;00m \u001b[39mself\u001b[39m\u001b[39m.\u001b[39mmetadata:\n",
            "\u001b[1;31mFileNotFoundError\u001b[0m: No such file or directory: '/Users/thakm004/Documents/Spotify/process_2.png'"
          ]
        },
        {
          "data": {
            "text/plain": [
              "<IPython.core.display.Image object>"
            ]
          },
          "execution_count": 15,
          "metadata": {},
          "output_type": "execute_result"
        }
      ],
      "source": [
        "from IPython.display import Image\n",
        "Image(\"/Users/thakm004/Documents/Spotify/process_2.png\")"
      ]
    },
    {
      "cell_type": "code",
      "execution_count": null,
      "metadata": {
        "id": "RfX5pCv0ahOD"
      },
      "outputs": [],
      "source": [
        "spotify_df = pd.read_csv('data.csv')"
      ]
    },
    {
      "cell_type": "code",
      "execution_count": null,
      "metadata": {
        "id": "hSFBuugQahRJ"
      },
      "outputs": [],
      "source": [
        "spotify_df.head()"
      ]
    },
    {
      "cell_type": "code",
      "execution_count": null,
      "metadata": {
        "id": "Pd4H2_hqahS6"
      },
      "outputs": [],
      "source": [
        "data_w_genre = pd.read_csv('data_w_genres.csv')\n",
        "data_w_genre.head()"
      ]
    },
    {
      "cell_type": "code",
      "execution_count": null,
      "metadata": {
        "id": "mI0YQCl2ahWI"
      },
      "outputs": [],
      "source": [
        "data_w_genre.dtypes"
      ]
    },
    {
      "cell_type": "code",
      "execution_count": null,
      "metadata": {
        "id": "jeJyC8seahXn"
      },
      "outputs": [],
      "source": [
        "data_w_genre['genres'].values[0]"
      ]
    },
    {
      "cell_type": "code",
      "execution_count": null,
      "metadata": {
        "id": "WzROAavgaha_"
      },
      "outputs": [],
      "source": [
        "#To check if this is actually a list, let me index it and see what it returns\n",
        "data_w_genre['genres'].values[0][0]"
      ]
    },
    {
      "cell_type": "code",
      "execution_count": null,
      "metadata": {
        "id": "XV8JwlwAahcZ"
      },
      "outputs": [],
      "source": [
        "data_w_genre['genres_upd'] = data_w_genre['genres'].apply(lambda x: [re.sub(' ','_',i) for i in re.findall(r\"'([^']*)'\", x)])"
      ]
    },
    {
      "cell_type": "code",
      "execution_count": null,
      "metadata": {
        "id": "iIjKP6_8ahf_"
      },
      "outputs": [],
      "source": [
        "data_w_genre['genres_upd'].values[0][0]"
      ]
    },
    {
      "cell_type": "code",
      "execution_count": null,
      "metadata": {
        "id": "ykO-Yhm0ahhj"
      },
      "outputs": [],
      "source": [
        "spotify_df['artists_upd_v1'] = spotify_df['artists'].apply(lambda x: re.findall(r\"'([^']*)'\", x))"
      ]
    },
    {
      "cell_type": "code",
      "execution_count": null,
      "metadata": {
        "id": "fquZyKjLahk7"
      },
      "outputs": [],
      "source": [
        "spotify_df['artists'].values[0]"
      ]
    },
    {
      "cell_type": "code",
      "execution_count": null,
      "metadata": {
        "id": "JUX8ZBsoahmu"
      },
      "outputs": [],
      "source": [
        "spotify_df['artists_upd_v1'].values[0][0]"
      ]
    },
    {
      "cell_type": "code",
      "execution_count": null,
      "metadata": {
        "id": "jR7sCAhkahp8"
      },
      "outputs": [],
      "source": [
        "spotify_df[spotify_df['artists_upd_v1'].apply(lambda x: not x)].head(5)"
      ]
    },
    {
      "cell_type": "code",
      "execution_count": null,
      "metadata": {
        "id": "YfLka1D5ahrL"
      },
      "outputs": [],
      "source": [
        "spotify_df['artists_upd_v2'] = spotify_df['artists'].apply(lambda x: re.findall('\\\"(.*?)\\\"',x))\n",
        "spotify_df['artists_upd'] = np.where(spotify_df['artists_upd_v1'].apply(lambda x: not x), spotify_df['artists_upd_v2'], spotify_df['artists_upd_v1'] )"
      ]
    },
    {
      "cell_type": "code",
      "execution_count": null,
      "metadata": {
        "id": "UkDArLUHahvD"
      },
      "outputs": [],
      "source": [
        "#need to create my own song identifier because there are duplicates of the same song with different ids. I see different\n",
        "spotify_df['artists_song'] = spotify_df.apply(lambda row: row['artists_upd'][0]+row['name'],axis = 1)"
      ]
    },
    {
      "cell_type": "code",
      "execution_count": null,
      "metadata": {
        "id": "4ybMOcylahwV"
      },
      "outputs": [],
      "source": [
        "spotify_df.sort_values(['artists_song','release_date'], ascending = False, inplace = True)"
      ]
    },
    {
      "cell_type": "code",
      "execution_count": null,
      "metadata": {
        "id": "Rdw_P9f4ahzy"
      },
      "outputs": [],
      "source": [
        "spotify_df[spotify_df['name']=='Adore You']"
      ]
    },
    {
      "cell_type": "code",
      "execution_count": null,
      "metadata": {
        "id": "Yf0wgpZUah1R"
      },
      "outputs": [],
      "source": [
        "spotify_df.drop_duplicates('artists_song',inplace = True)"
      ]
    },
    {
      "cell_type": "code",
      "execution_count": null,
      "metadata": {
        "id": "tvpX8AGsah4x"
      },
      "outputs": [],
      "source": [
        "spotify_df[spotify_df['name']=='Adore You']"
      ]
    },
    {
      "cell_type": "code",
      "execution_count": null,
      "metadata": {
        "id": "ZfaoWVkdah6O"
      },
      "outputs": [],
      "source": [
        "artists_exploded = spotify_df[['artists_upd','id']].explode('artists_upd')"
      ]
    },
    {
      "cell_type": "code",
      "execution_count": null,
      "metadata": {
        "id": "6sxwcfNnah9p"
      },
      "outputs": [],
      "source": [
        "artists_exploded_enriched = artists_exploded.merge(data_w_genre, how = 'left', left_on = 'artists_upd',right_on = 'artists')\n",
        "artists_exploded_enriched_nonnull = artists_exploded_enriched[~artists_exploded_enriched.genres_upd.isnull()]"
      ]
    },
    {
      "cell_type": "code",
      "execution_count": null,
      "metadata": {
        "id": "uLlzx1nCah_d"
      },
      "outputs": [],
      "source": [
        "artists_exploded_enriched_nonnull[artists_exploded_enriched_nonnull['id'] =='6KuQTIu1KoTTkLXKrwlLPV']"
      ]
    },
    {
      "cell_type": "code",
      "execution_count": null,
      "metadata": {
        "id": "b-LPu9RTaiC5"
      },
      "outputs": [],
      "source": [
        "artists_genres_consolidated = artists_exploded_enriched_nonnull.groupby('id')['genres_upd'].apply(list).reset_index()"
      ]
    },
    {
      "cell_type": "code",
      "execution_count": null,
      "metadata": {
        "id": "DfsgAqIoaiEb"
      },
      "outputs": [],
      "source": [
        "artists_genres_consolidated['consolidates_genre_lists'] = artists_genres_consolidated['genres_upd'].apply(lambda x: list(set(list(itertools.chain.from_iterable(x)))))"
      ]
    },
    {
      "cell_type": "code",
      "execution_count": null,
      "metadata": {
        "id": "_1focmFWaiH_"
      },
      "outputs": [],
      "source": [
        "artists_genres_consolidated.head()"
      ]
    },
    {
      "cell_type": "code",
      "execution_count": null,
      "metadata": {
        "id": "UjyeBlv8aiJl"
      },
      "outputs": [],
      "source": [
        "spotify_df = spotify_df.merge(artists_genres_consolidated[['id','consolidates_genre_lists']], on = 'id',how = 'left')"
      ]
    },
    {
      "cell_type": "code",
      "execution_count": null,
      "metadata": {
        "id": "SdsvFjt6aiNA"
      },
      "outputs": [],
      "source": [
        "spotify_df.tail()"
      ]
    },
    {
      "cell_type": "code",
      "execution_count": null,
      "metadata": {
        "id": "jrViV3mbaiOj"
      },
      "outputs": [],
      "source": [
        "spotify_df['year'] = spotify_df['release_date'].apply(lambda x: x.split('-')[0])"
      ]
    },
    {
      "cell_type": "code",
      "execution_count": null,
      "metadata": {
        "id": "KnLxfqpVaiSF"
      },
      "outputs": [],
      "source": [
        "float_cols = spotify_df.dtypes[spotify_df.dtypes == 'float64'].index.values"
      ]
    },
    {
      "cell_type": "code",
      "execution_count": null,
      "metadata": {
        "id": "uVHRj2pVaiT0"
      },
      "outputs": [],
      "source": [
        "ohe_cols = 'popularity'"
      ]
    },
    {
      "cell_type": "code",
      "execution_count": null,
      "metadata": {
        "id": "8EkH-1XMaiXS"
      },
      "outputs": [],
      "source": [
        "spotify_df['popularity'].describe()"
      ]
    },
    {
      "cell_type": "code",
      "execution_count": null,
      "metadata": {
        "id": "WS7xGDtUaiZR"
      },
      "outputs": [],
      "source": [
        "# create 5 point buckets for popularity \n",
        "spotify_df['popularity_red'] = spotify_df['popularity'].apply(lambda x: int(x/5))"
      ]
    },
    {
      "cell_type": "code",
      "execution_count": null,
      "metadata": {
        "id": "DaV8StAlaicq"
      },
      "outputs": [],
      "source": [
        "# tfidf can't handle nulls so fill any null values with an empty list\n",
        "spotify_df['consolidates_genre_lists'] = spotify_df['consolidates_genre_lists'].apply(lambda d: d if isinstance(d, list) else [])"
      ]
    },
    {
      "cell_type": "code",
      "execution_count": null,
      "metadata": {
        "id": "fq-19hftaiee"
      },
      "outputs": [],
      "source": [
        "spotify_df.head()"
      ]
    },
    {
      "cell_type": "code",
      "execution_count": null,
      "metadata": {
        "id": "uz17HmO-aiiC"
      },
      "outputs": [],
      "source": [
        "#simple function to create OHE features\n",
        "#this gets passed later on\n",
        "def ohe_prep(df, column, new_name): \n",
        "    \"\"\" \n",
        "    Create One Hot Encoded features of a specific column\n",
        "\n",
        "    Parameters: \n",
        "        df (pandas dataframe): Spotify Dataframe\n",
        "        column (str): Column to be processed\n",
        "        new_name (str): new column name to be used\n",
        "        \n",
        "    Returns: \n",
        "        tf_df: One hot encoded features \n",
        "    \"\"\"\n",
        "    \n",
        "    tf_df = pd.get_dummies(df[column])\n",
        "    feature_names = tf_df.columns\n",
        "    tf_df.columns = [new_name + \"|\" + str(i) for i in feature_names]\n",
        "    tf_df.reset_index(drop = True, inplace = True)    \n",
        "    return tf_df"
      ]
    },
    {
      "cell_type": "code",
      "execution_count": null,
      "metadata": {
        "id": "qC_Kcog2aijy"
      },
      "outputs": [],
      "source": [
        "from IPython.display import Image\n",
        "Image(\"/Users/thakm004/Documents/Spotify/tfidf_4.png\")"
      ]
    },
    {
      "cell_type": "code",
      "execution_count": null,
      "metadata": {
        "id": "wyNunBBZainh"
      },
      "outputs": [],
      "source": [
        "#function to build entire feature set\n",
        "def create_feature_set(df, float_cols):\n",
        "    \"\"\" \n",
        "    Process spotify df to create a final set of features that will be used to generate recommendations\n",
        "\n",
        "    Parameters: \n",
        "        df (pandas dataframe): Spotify Dataframe\n",
        "        float_cols (list(str)): List of float columns that will be scaled \n",
        "        \n",
        "    Returns: \n",
        "        final: final set of features \n",
        "    \"\"\"\n",
        "    \n",
        "    #tfidf genre lists\n",
        "    tfidf = TfidfVectorizer()\n",
        "    tfidf_matrix =  tfidf.fit_transform(df['consolidates_genre_lists'].apply(lambda x: \" \".join(x)))\n",
        "    genre_df = pd.DataFrame(tfidf_matrix.toarray())\n",
        "    genre_df.columns = ['genre' + \"|\" + i for i in tfidf.get_feature_names()]\n",
        "    genre_df.reset_index(drop = True, inplace=True)\n",
        "\n",
        "    #explicity_ohe = ohe_prep(df, 'explicit','exp')    \n",
        "    year_ohe = ohe_prep(df, 'year','year') * 0.5\n",
        "    popularity_ohe = ohe_prep(df, 'popularity_red','pop') * 0.15\n",
        "\n",
        "    #scale float columns\n",
        "    floats = df[float_cols].reset_index(drop = True)\n",
        "    scaler = MinMaxScaler()\n",
        "    floats_scaled = pd.DataFrame(scaler.fit_transform(floats), columns = floats.columns) * 0.2\n",
        "\n",
        "    #concanenate all features\n",
        "    final = pd.concat([genre_df, floats_scaled, popularity_ohe, year_ohe], axis = 1)\n",
        "     \n",
        "    #add song id\n",
        "    final['id']=df['id'].values\n",
        "    \n",
        "    return final"
      ]
    },
    {
      "cell_type": "code",
      "execution_count": null,
      "metadata": {
        "id": "3VxzqblKaipW"
      },
      "outputs": [],
      "source": [
        "complete_feature_set = create_feature_set(spotify_df, float_cols=float_cols)#.mean(axis = 0)"
      ]
    },
    {
      "cell_type": "code",
      "execution_count": null,
      "metadata": {
        "id": "xOIkMAExedC8"
      },
      "outputs": [],
      "source": [
        "complete_feature_set.head()"
      ]
    },
    {
      "cell_type": "code",
      "execution_count": null,
      "metadata": {
        "id": "vl7JBU4yedLy"
      },
      "outputs": [],
      "source": [
        "#client id and secret for my application\n",
        "client_id = 'id'\n",
        "client_secret= 'secret'"
      ]
    },
    {
      "cell_type": "code",
      "execution_count": null,
      "metadata": {
        "id": "qtNw9qmtedRv"
      },
      "outputs": [],
      "source": [
        "scope = 'user-library-read'\n",
        "\n",
        "if len(sys.argv) > 1:\n",
        "    username = sys.argv[1]\n",
        "else:\n",
        "    print(\"Usage: %s username\" % (sys.argv[0],))\n",
        "    sys.exit()"
      ]
    },
    {
      "cell_type": "code",
      "execution_count": null,
      "metadata": {
        "id": "-ftfkXxsedTm"
      },
      "outputs": [],
      "source": [
        "auth_manager = SpotifyClientCredentials(client_id=client_id, client_secret=client_secret)\n",
        "sp = spotipy.Spotify(auth_manager=auth_manager)"
      ]
    },
    {
      "cell_type": "code",
      "execution_count": null,
      "metadata": {
        "id": "I3RQchm7edXk"
      },
      "outputs": [],
      "source": [
        "token = util.prompt_for_user_token(scope, client_id= client_id, client_secret=client_secret, redirect_uri='http://localhost:8881/')"
      ]
    },
    {
      "cell_type": "code",
      "execution_count": null,
      "metadata": {
        "id": "Uj95LNFJedaX"
      },
      "outputs": [],
      "source": [
        "sp = spotipy.Spotify(auth=token)"
      ]
    },
    {
      "cell_type": "code",
      "execution_count": null,
      "metadata": {
        "id": "iG89HonTedhS"
      },
      "outputs": [],
      "source": [
        "#gather playlist names and images. \n",
        "#images aren't going to be used until I start building a UI\n",
        "id_name = {}\n",
        "list_photo = {}\n",
        "for i in sp.current_user_playlists()['items']:\n",
        "\n",
        "    id_name[i['name']] = i['uri'].split(':')[2]\n",
        "    list_photo[i['uri'].split(':')[2]] = i['images'][0]['url']"
      ]
    },
    {
      "cell_type": "code",
      "execution_count": null,
      "metadata": {
        "id": "oybT97yzedjV"
      },
      "outputs": [],
      "source": [
        "id_name"
      ]
    },
    {
      "cell_type": "code",
      "execution_count": null,
      "metadata": {
        "id": "Wm1E6r2dednK"
      },
      "outputs": [],
      "source": [
        "def create_necessary_outputs(playlist_name,id_dic, df):\n",
        "    \"\"\" \n",
        "    Pull songs from a specific playlist.\n",
        "\n",
        "    Parameters: \n",
        "        playlist_name (str): name of the playlist you'd like to pull from the spotify API\n",
        "        id_dic (dic): dictionary that maps playlist_name to playlist_id\n",
        "        df (pandas dataframe): spotify datafram\n",
        "        \n",
        "    Returns: \n",
        "        playlist: all songs in the playlist THAT ARE AVAILABLE IN THE KAGGLE DATASET\n",
        "    \"\"\"\n",
        "    \n",
        "    #generate playlist dataframe\n",
        "    playlist = pd.DataFrame()\n",
        "    playlist_name = playlist_name\n",
        "\n",
        "    for ix, i in enumerate(sp.playlist(id_dic[playlist_name])['tracks']['items']):\n",
        "        #print(i['track']['artists'][0]['name'])\n",
        "        playlist.loc[ix, 'artist'] = i['track']['artists'][0]['name']\n",
        "        playlist.loc[ix, 'name'] = i['track']['name']\n",
        "        playlist.loc[ix, 'id'] = i['track']['id'] # ['uri'].split(':')[2]\n",
        "        playlist.loc[ix, 'url'] = i['track']['album']['images'][1]['url']\n",
        "        playlist.loc[ix, 'date_added'] = i['added_at']\n",
        "\n",
        "    playlist['date_added'] = pd.to_datetime(playlist['date_added'])  \n",
        "    \n",
        "    playlist = playlist[playlist['id'].isin(df['id'].values)].sort_values('date_added',ascending = False)\n",
        "    \n",
        "    return playlist"
      ]
    },
    {
      "cell_type": "code",
      "execution_count": null,
      "metadata": {
        "id": "k5hEOnTXedo-"
      },
      "outputs": [],
      "source": [
        "id_name"
      ]
    },
    {
      "cell_type": "code",
      "execution_count": null,
      "metadata": {
        "id": "xzWSWKpMeds8"
      },
      "outputs": [],
      "source": [
        "playlist_EDM = create_necessary_outputs('EDM', id_name,spotify_df)\n",
        "#playlist_chill = create_necessary_outputs('chill',id_name, spotify_df)\n",
        "#playlist_classical = create_necessary_outputs('Epic Classical',id_name, spotify_df)"
      ]
    },
    {
      "cell_type": "code",
      "execution_count": null,
      "metadata": {
        "id": "CQHQ_0sOedwB"
      },
      "outputs": [],
      "source": [
        "from skimage import io\n",
        "import matplotlib.pyplot as plt\n",
        "\n",
        "def visualize_songs(df):\n",
        "    \"\"\" \n",
        "    Visualize cover art of the songs in the inputted dataframe\n",
        "\n",
        "    Parameters: \n",
        "        df (pandas dataframe): Playlist Dataframe\n",
        "    \"\"\"\n",
        "    \n",
        "    temp = df['url'].values\n",
        "    plt.figure(figsize=(15,int(0.625 * len(temp))))\n",
        "    columns = 5\n",
        "    \n",
        "    for i, url in enumerate(temp):\n",
        "        plt.subplot(len(temp) / columns + 1, columns, i + 1)\n",
        "\n",
        "        image = io.imread(url)\n",
        "        plt.imshow(image)\n",
        "        plt.xticks(color = 'w', fontsize = 0.1)\n",
        "        plt.yticks(color = 'w', fontsize = 0.1)\n",
        "        plt.xlabel(df['name'].values[i], fontsize = 12)\n",
        "        plt.tight_layout(h_pad=0.4, w_pad=0)\n",
        "        plt.subplots_adjust(wspace=None, hspace=None)\n",
        "\n",
        "    plt.show()"
      ]
    },
    {
      "cell_type": "code",
      "execution_count": null,
      "metadata": {
        "id": "Mqz_zuzOed2g"
      },
      "outputs": [],
      "source": [
        "playlist_EDM"
      ]
    },
    {
      "cell_type": "code",
      "execution_count": null,
      "metadata": {
        "id": "7ceHsHXKed7p"
      },
      "outputs": [],
      "source": [
        "visualize_songs(playlist_EDM)"
      ]
    },
    {
      "cell_type": "code",
      "execution_count": null,
      "metadata": {
        "id": "o83F62r8ed9e"
      },
      "outputs": [],
      "source": [
        "from IPython.display import Image\n",
        "Image(\"/Users/thakm004/Documents/Spotify/summarization_2.png\")"
      ]
    },
    {
      "cell_type": "code",
      "execution_count": null,
      "metadata": {
        "id": "ZZsF_BnieeBw"
      },
      "outputs": [],
      "source": [
        "def generate_playlist_feature(complete_feature_set, playlist_df, weight_factor):\n",
        "    \"\"\" \n",
        "    Summarize a user's playlist into a single vector\n",
        "\n",
        "    Parameters: \n",
        "        complete_feature_set (pandas dataframe): Dataframe which includes all of the features for the spotify songs\n",
        "        playlist_df (pandas dataframe): playlist dataframe\n",
        "        weight_factor (float): float value that represents the recency bias. The larger the recency bias, the most priority recent songs get. Value should be close to 1. \n",
        "        \n",
        "    Returns: \n",
        "        playlist_feature_set_weighted_final (pandas series): single feature that summarizes the playlist\n",
        "        complete_feature_set_nonplaylist (pandas dataframe): \n",
        "    \"\"\"\n",
        "    \n",
        "    complete_feature_set_playlist = complete_feature_set[complete_feature_set['id'].isin(playlist_df['id'].values)]#.drop('id', axis = 1).mean(axis =0)\n",
        "    complete_feature_set_playlist = complete_feature_set_playlist.merge(playlist_df[['id','date_added']], on = 'id', how = 'inner')\n",
        "    complete_feature_set_nonplaylist = complete_feature_set[~complete_feature_set['id'].isin(playlist_df['id'].values)]#.drop('id', axis = 1)\n",
        "    \n",
        "    playlist_feature_set = complete_feature_set_playlist.sort_values('date_added',ascending=False)\n",
        "\n",
        "    most_recent_date = playlist_feature_set.iloc[0,-1]\n",
        "    \n",
        "    for ix, row in playlist_feature_set.iterrows():\n",
        "        playlist_feature_set.loc[ix,'months_from_recent'] = int((most_recent_date.to_pydatetime() - row.iloc[-1].to_pydatetime()).days / 30)\n",
        "        \n",
        "    playlist_feature_set['weight'] = playlist_feature_set['months_from_recent'].apply(lambda x: weight_factor ** (-x))\n",
        "    \n",
        "    playlist_feature_set_weighted = playlist_feature_set.copy()\n",
        "    #print(playlist_feature_set_weighted.iloc[:,:-4].columns)\n",
        "    playlist_feature_set_weighted.update(playlist_feature_set_weighted.iloc[:,:-4].mul(playlist_feature_set_weighted.weight,0))\n",
        "    playlist_feature_set_weighted_final = playlist_feature_set_weighted.iloc[:, :-4]\n",
        "    #playlist_feature_set_weighted_final['id'] = playlist_feature_set['id']\n",
        "    \n",
        "    return playlist_feature_set_weighted_final.sum(axis = 0), complete_feature_set_nonplaylist"
      ]
    },
    {
      "cell_type": "code",
      "execution_count": null,
      "metadata": {
        "id": "5zyhzbLHais_"
      },
      "outputs": [],
      "source": [
        "complete_feature_set_playlist_vector_EDM, complete_feature_set_nonplaylist_EDM = generate_playlist_feature(complete_feature_set, playlist_EDM, 1.09)\n",
        "#complete_feature_set_playlist_vector_chill, complete_feature_set_nonplaylist_chill = generate_playlist_feature(complete_feature_set, playlist_chill, 1.09)"
      ]
    },
    {
      "cell_type": "code",
      "execution_count": null,
      "metadata": {
        "id": "1-EQKf9Baium"
      },
      "outputs": [],
      "source": [
        "complete_feature_set_playlist_vector_EDM.shape"
      ]
    },
    {
      "cell_type": "code",
      "execution_count": null,
      "metadata": {
        "id": "7XWy5X0Iaiya"
      },
      "outputs": [],
      "source": [
        "from IPython.display import Image\n",
        "Image(\"/Users/thakm004/Documents/Spotify/cosine_sim_2.png\")"
      ]
    },
    {
      "cell_type": "code",
      "execution_count": null,
      "metadata": {
        "id": "D_-OkV99ai0H"
      },
      "outputs": [],
      "source": [
        "def generate_playlist_recos(df, features, nonplaylist_features):\n",
        "    \"\"\" \n",
        "    Pull songs from a specific playlist.\n",
        "\n",
        "    Parameters: \n",
        "        df (pandas dataframe): spotify dataframe\n",
        "        features (pandas series): summarized playlist feature\n",
        "        nonplaylist_features (pandas dataframe): feature set of songs that are not in the selected playlist\n",
        "        \n",
        "    Returns: \n",
        "        non_playlist_df_top_40: Top 40 recommendations for that playlist\n",
        "    \"\"\"\n",
        "    \n",
        "    non_playlist_df = df[df['id'].isin(nonplaylist_features['id'].values)]\n",
        "    non_playlist_df['sim'] = cosine_similarity(nonplaylist_features.drop('id', axis = 1).values, features.values.reshape(1, -1))[:,0]\n",
        "    non_playlist_df_top_40 = non_playlist_df.sort_values('sim',ascending = False).head(40)\n",
        "    non_playlist_df_top_40['url'] = non_playlist_df_top_40['id'].apply(lambda x: sp.track(x)['album']['images'][1]['url'])\n",
        "    \n",
        "    return non_playlist_df_top_40"
      ]
    },
    {
      "cell_type": "code",
      "execution_count": null,
      "metadata": {
        "id": "6WcKyO1fai36"
      },
      "outputs": [],
      "source": [
        "edm_top40 = generate_playlist_recos(spotify_df, complete_feature_set_playlist_vector_EDM, complete_feature_set_nonplaylist_EDM)"
      ]
    },
    {
      "cell_type": "code",
      "execution_count": null,
      "metadata": {
        "id": "cROzDvuTai5q"
      },
      "outputs": [],
      "source": [
        "from IPython.display import Image\n",
        "Image(\"/Users/thakm004/Documents/Spotify/spotify_results.png\")"
      ]
    },
    {
      "cell_type": "code",
      "execution_count": null,
      "metadata": {
        "id": "UZXkGsKEai9i"
      },
      "outputs": [],
      "source": [
        "edm_top40"
      ]
    },
    {
      "cell_type": "code",
      "execution_count": null,
      "metadata": {
        "id": "c4bqyG0jai_N"
      },
      "outputs": [],
      "source": [
        "visualize_songs(edm_top40)"
      ]
    },
    {
      "cell_type": "code",
      "execution_count": null,
      "metadata": {
        "id": "5R2aAuouajDE"
      },
      "outputs": [],
      "source": [
        "chill_top40 = generate_playlist_recos(spotify_df, complete_feature_set_playlist_vector_chill, complete_feature_set_nonplaylist_chill)"
      ]
    },
    {
      "cell_type": "code",
      "execution_count": null,
      "metadata": {
        "id": "mdbL-xHmajE8"
      },
      "outputs": [],
      "source": []
    },
    {
      "cell_type": "code",
      "execution_count": null,
      "metadata": {
        "id": "o_061oX1ajIz"
      },
      "outputs": [],
      "source": []
    },
    {
      "cell_type": "code",
      "execution_count": null,
      "metadata": {
        "id": "ySJ0CJBsajKk"
      },
      "outputs": [],
      "source": []
    },
    {
      "cell_type": "code",
      "execution_count": null,
      "metadata": {
        "id": "S0Bvv20KajOY"
      },
      "outputs": [],
      "source": []
    },
    {
      "cell_type": "code",
      "execution_count": null,
      "metadata": {
        "id": "sC603kO5ajQI"
      },
      "outputs": [],
      "source": []
    },
    {
      "cell_type": "code",
      "execution_count": null,
      "metadata": {
        "id": "mVzi6JWkajTn"
      },
      "outputs": [],
      "source": []
    },
    {
      "cell_type": "code",
      "execution_count": null,
      "metadata": {
        "id": "1eFGiQ3qajVT"
      },
      "outputs": [],
      "source": []
    },
    {
      "cell_type": "code",
      "execution_count": null,
      "metadata": {
        "id": "fLsCSwMnajZQ"
      },
      "outputs": [],
      "source": []
    },
    {
      "cell_type": "code",
      "execution_count": null,
      "metadata": {
        "id": "DY4p8gJnaja5"
      },
      "outputs": [],
      "source": []
    },
    {
      "cell_type": "code",
      "execution_count": null,
      "metadata": {
        "id": "y-CRF9qzajeZ"
      },
      "outputs": [],
      "source": []
    },
    {
      "cell_type": "code",
      "execution_count": null,
      "metadata": {
        "id": "FFGDJdMcajgM"
      },
      "outputs": [],
      "source": []
    },
    {
      "cell_type": "code",
      "execution_count": null,
      "metadata": {
        "id": "RnuvFsP6ajj2"
      },
      "outputs": [],
      "source": []
    },
    {
      "cell_type": "code",
      "execution_count": null,
      "metadata": {
        "id": "N3FubJ9Sajlc"
      },
      "outputs": [],
      "source": []
    },
    {
      "cell_type": "code",
      "execution_count": null,
      "metadata": {
        "id": "ARQbFq_QajpC"
      },
      "outputs": [],
      "source": []
    },
    {
      "cell_type": "code",
      "execution_count": null,
      "metadata": {
        "id": "TVmZrSWPajq5"
      },
      "outputs": [],
      "source": []
    },
    {
      "cell_type": "code",
      "execution_count": null,
      "metadata": {
        "id": "qKCMlGjJajuQ"
      },
      "outputs": [],
      "source": []
    },
    {
      "cell_type": "code",
      "execution_count": null,
      "metadata": {
        "id": "pPL9OpMlajv_"
      },
      "outputs": [],
      "source": []
    },
    {
      "cell_type": "code",
      "execution_count": null,
      "metadata": {
        "id": "Gmfi18aDajzu"
      },
      "outputs": [],
      "source": []
    },
    {
      "cell_type": "code",
      "execution_count": null,
      "metadata": {
        "id": "NBNsrdZHaj1i"
      },
      "outputs": [],
      "source": []
    },
    {
      "cell_type": "code",
      "execution_count": null,
      "metadata": {
        "id": "9DeAteGzaj5M"
      },
      "outputs": [],
      "source": []
    },
    {
      "cell_type": "code",
      "execution_count": null,
      "metadata": {
        "id": "o9QlLVY4aj7_"
      },
      "outputs": [],
      "source": []
    }
  ],
  "metadata": {
    "colab": {
      "provenance": []
    },
    "kernelspec": {
      "display_name": "Python 3.10.5 64-bit",
      "language": "python",
      "name": "python3"
    },
    "language_info": {
      "codemirror_mode": {
        "name": "ipython",
        "version": 3
      },
      "file_extension": ".py",
      "mimetype": "text/x-python",
      "name": "python",
      "nbconvert_exporter": "python",
      "pygments_lexer": "ipython3",
      "version": "3.10.5"
    },
    "vscode": {
      "interpreter": {
        "hash": "a9cff5a362bc38ef45d817ae74b1af54d6a076e3d773891282bce078b815ba34"
      }
    }
  },
  "nbformat": 4,
  "nbformat_minor": 0
}
